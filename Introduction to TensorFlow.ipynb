{
 "cells": [
  {
   "cell_type": "markdown",
   "metadata": {},
   "source": [
    "# Introduction to TensorFlow\n",
    "\n",
    "Welcome to TensorFlow! In this introduction we will go through the basics of TensorFlow so that we can understand how the package works. We won't being going over neural networks in this tutorial, but throughout the tutorial, you can see how we are heading towards the direction of building neural networks."
   ]
  },
  {
   "cell_type": "markdown",
   "metadata": {},
   "source": [
    "## Tensorflow Installation\n",
    "\n",
    "Follow https://www.tensorflow.org/install/ for installing tensorflow, and make sure you have Python installed."
   ]
  },
  {
   "cell_type": "code",
   "execution_count": 1,
   "metadata": {
    "collapsed": true
   },
   "outputs": [],
   "source": [
    "import tensorflow as tf"
   ]
  },
  {
   "cell_type": "markdown",
   "metadata": {},
   "source": [
    "## What is a Tensor\n",
    "\n",
    "A \"tensor\" is a representation of data in tensorflow as an n-dimensional matrix. \n",
    "\n",
    "- a tensor of rank 0 is: 5\n",
    "- a tensor of rank 1 is: [5,6,7] (shape [3])\n",
    "- a tensor of rank 2 is: [[1,2,3], [2,3,4]] (shape [2,3])\n",
    "- and so on so forth...\n",
    "\n",
    "Once we import tensorflow we can define constants. tensorflow also supports type inference."
   ]
  },
  {
   "cell_type": "code",
   "execution_count": 2,
   "metadata": {
    "collapsed": false
   },
   "outputs": [
    {
     "name": "stdout",
     "output_type": "stream",
     "text": [
      "Tensor(\"Const:0\", shape=(), dtype=float32) Tensor(\"Const_1:0\", shape=(), dtype=float32)\n"
     ]
    }
   ],
   "source": [
    "num1 = tf.constant(5.0, tf.float32)\n",
    "num2 = tf.constant(7.0)\n",
    "print(num1, num2)"
   ]
  },
  {
   "cell_type": "markdown",
   "metadata": {},
   "source": [
    "## TensorFlow Sessions\n",
    "\n",
    "The nodes we created can't actually be used until we start a session (their values aren't evaluated until we are in a session). "
   ]
  },
  {
   "cell_type": "code",
   "execution_count": 3,
   "metadata": {
    "collapsed": false
   },
   "outputs": [
    {
     "name": "stdout",
     "output_type": "stream",
     "text": [
      "[5.0, 7.0]\n"
     ]
    }
   ],
   "source": [
    "sess = tf.Session()\n",
    "print(sess.run([num1, num2]))"
   ]
  },
  {
   "cell_type": "markdown",
   "metadata": {},
   "source": [
    "We can also create nodes which perform operations like addition, and apply them to other nodes."
   ]
  },
  {
   "cell_type": "code",
   "execution_count": 4,
   "metadata": {
    "collapsed": false
   },
   "outputs": [
    {
     "name": "stdout",
     "output_type": "stream",
     "text": [
      "12.0\n"
     ]
    }
   ],
   "source": [
    "op1 = tf.add(num1, num2)\n",
    "print(sess.run(op1)) \n",
    "# alternatively we could also do sess.run(num1 + num2), but this\n",
    "# shows the overall structure of how Tensorflow works."
   ]
  },
  {
   "cell_type": "markdown",
   "metadata": {},
   "source": [
    "## Placeholders\n",
    "Placeholders in tensorflow can be thought of nodes which are waiting to receive a value.\n",
    "\n",
    "Notice up until now that our nodes represent a structure of computation. It is not until we run a session that we feed data into our nodes and we retrieve an output - you can think of this as lazy evaluation"
   ]
  },
  {
   "cell_type": "code",
   "execution_count": 5,
   "metadata": {
    "collapsed": false
   },
   "outputs": [],
   "source": [
    "x = tf.placeholder(tf.float32)\n",
    "y = tf.placeholder(tf.float32)\n",
    "sum_x_y = x + y # tf.add is overloaded with the + operator"
   ]
  },
  {
   "cell_type": "markdown",
   "metadata": {},
   "source": [
    "With sum_x_y, we can pass it any kind of data for x and y, and it will be able to add our values up (as long as the shapes are the same)"
   ]
  },
  {
   "cell_type": "code",
   "execution_count": 6,
   "metadata": {
    "collapsed": false
   },
   "outputs": [
    {
     "name": "stdout",
     "output_type": "stream",
     "text": [
      "12.0\n"
     ]
    }
   ],
   "source": [
    "print(sess.run(sum_x_y, {x: 5, y: 7}))"
   ]
  },
  {
   "cell_type": "code",
   "execution_count": 7,
   "metadata": {
    "collapsed": false
   },
   "outputs": [
    {
     "name": "stdout",
     "output_type": "stream",
     "text": [
      "[  7.  11.]\n"
     ]
    }
   ],
   "source": [
    "print(sess.run(sum_x_y, {x: [5, 7], y: [2, 4]}))"
   ]
  },
  {
   "cell_type": "markdown",
   "metadata": {},
   "source": [
    "As you can see, we can also create operations upon other operations"
   ]
  },
  {
   "cell_type": "code",
   "execution_count": 8,
   "metadata": {
    "collapsed": false
   },
   "outputs": [
    {
     "name": "stdout",
     "output_type": "stream",
     "text": [
      "[ 14.  22.]\n"
     ]
    }
   ],
   "source": [
    "sum_times_2 = sum_x_y * 2\n",
    "\n",
    "print(sess.run(sum_times_2, {x: [5, 7], y: [2, 4]}))"
   ]
  },
  {
   "cell_type": "markdown",
   "metadata": {},
   "source": [
    "## Outputting Graph to TensorBoard\n",
    "We can write our session graph to a file using FileWriter. Then we can view the graph via tensorboard"
   ]
  },
  {
   "cell_type": "code",
   "execution_count": 9,
   "metadata": {
    "collapsed": false
   },
   "outputs": [],
   "source": [
    "one = tf.constant(5, name='node_1')\n",
    "two = tf.constant(2, name='node_2')\n",
    "three = tf.multiply(one, two, name='node_3')\n",
    "sess1 = tf.Session()\n",
    "output = sess1.run(three)\n",
    "writer = tf.summary.FileWriter('./my_graph', sess1.graph)\n",
    "writer.close()\n",
    "sess1.close()"
   ]
  },
  {
   "cell_type": "markdown",
   "metadata": {},
   "source": [
    "## Building a Linear Model\n",
    "Variables in tensorflow have a value, and this value is mutable. Variables are especially useful while training our models so that they can be adjusted for better performance"
   ]
  },
  {
   "cell_type": "code",
   "execution_count": 10,
   "metadata": {
    "collapsed": false
   },
   "outputs": [],
   "source": [
    "weights = tf.Variable([.5])\n",
    "bias = tf.Variable([-.5])\n",
    "x = tf.placeholder(tf.float32)\n",
    "\n",
    "linear_model = weights * x + bias"
   ]
  },
  {
   "cell_type": "markdown",
   "metadata": {},
   "source": [
    "Variables have to be initialized. To do so we use tf.global_variables_initializer, and pass that to our session"
   ]
  },
  {
   "cell_type": "code",
   "execution_count": 11,
   "metadata": {
    "collapsed": false
   },
   "outputs": [
    {
     "name": "stdout",
     "output_type": "stream",
     "text": [
      "[-0.5  0.   0.5  1. ]\n"
     ]
    }
   ],
   "source": [
    "init = tf.global_variables_initializer()\n",
    "sess.run(init)\n",
    "print(sess.run(linear_model, {x: [0,1,2,3]}))"
   ]
  },
  {
   "cell_type": "markdown",
   "metadata": {
    "collapsed": true
   },
   "source": [
    "As we can see, when we run our session each input is ran through the linear model we build. If we want to see the squared error of our model, we can build more tensors as the following:"
   ]
  },
  {
   "cell_type": "code",
   "execution_count": 12,
   "metadata": {
    "collapsed": false
   },
   "outputs": [
    {
     "name": "stdout",
     "output_type": "stream",
     "text": [
      "36.0\n"
     ]
    }
   ],
   "source": [
    "y = tf.placeholder(tf.float32)\n",
    "squared_errors = tf.square(linear_model - y)\n",
    "total_error = tf.reduce_sum(squared_errors)\n",
    "print(sess.run(total_error, {x: [0, 1, 2, 3], y: [2.5, 3, 3.5, 4]}))"
   ]
  },
  {
   "cell_type": "markdown",
   "metadata": {},
   "source": [
    "## Training a Linear Model\n",
    "Recall that in order for our model to learn, we must define a loss function. This way, we can perform gradient descent and adjust the properties of our model so that it can minimize loss. Below, we have constructed a new Tensor which performs gradient descent, and we provide it with the learning rate and which tensor to minimize."
   ]
  },
  {
   "cell_type": "code",
   "execution_count": 13,
   "metadata": {
    "collapsed": true
   },
   "outputs": [],
   "source": [
    "gradient_descent = tf.train.GradientDescentOptimizer(0.01)\n",
    "train_model = gradient_descent.minimize(total_error)"
   ]
  },
  {
   "cell_type": "markdown",
   "metadata": {},
   "source": [
    "Now that we've constructed our gradient descent tensor, we will do sess.run(init), to reinitialize our weight and bias to .5 and -.5 respectively. Then we will run gradient descent 800 times and then view the new error, weight, and bias. Ideally, this would produce a model with the slope = 0.5, intercept = 2.5, and error = 0"
   ]
  },
  {
   "cell_type": "code",
   "execution_count": 14,
   "metadata": {
    "collapsed": false,
    "scrolled": true
   },
   "outputs": [
    {
     "name": "stdout",
     "output_type": "stream",
     "text": [
      "iteration:  0 Error:  20.3616\n",
      "iteration:  100 Error:  0.0677404\n",
      "iteration:  200 Error:  0.000548328\n",
      "iteration:  300 Error:  4.43594e-06\n",
      "iteration:  400 Error:  3.59472e-08\n",
      "iteration:  500 Error:  2.96495e-10\n",
      "iteration:  600 Error:  2.63753e-11\n",
      "iteration:  700 Error:  2.63753e-11\n",
      "Error:  2.63753e-11\n",
      "Weight:  [ 0.50000191] Bias:  [ 2.49999571]\n"
     ]
    }
   ],
   "source": [
    "sess.run(init)\n",
    "\n",
    "for i in range(800):\n",
    "    sess.run(train_model, {x: [0, 1, 2, 3],\n",
    "                     y: [2.5, 3, 3.5, 4]})\n",
    "    if i % 100 == 0:\n",
    "        print('iteration: ', i, 'Error: ', sess.run(total_error, {x: [0, 1, 2, 3], y: [2.5, 3, 3.5, 4]}))\n",
    "print('Error: ', sess.run(total_error, {x: [0, 1, 2, 3], y: [2.5, 3, 3.5, 4]}))\n",
    "print('Weight: ', sess.run(weights), 'Bias: ', sess.run(bias))"
   ]
  },
  {
   "cell_type": "markdown",
   "metadata": {},
   "source": [
    "## Quick Recap of Tensors:\n",
    "\n",
    "- You can think of a tensor as a representation of a multidimensional array or vector\n",
    "  - tf.constant: A tensor which has a constant value. That value is whatever you define it to be\n",
    "  - tf.placeholder: A tensor which dosen't have a value until you run a session and provide that tensor with data.\n",
    "  - tf.Variable: A tensor which has an initial value, but that value can change as we optimize different functions (think of it as a constant which can change)\n",
    "  - Tensors can also be operations or optimizers like matrix multiplication or gradient descent.\n",
    "- Remember that tensors are different from vectors or arrays in python. You will always \"load\" your python vector or array into tensorflow by using a placeholder tensor."
   ]
  },
  {
   "cell_type": "markdown",
   "metadata": {},
   "source": [
    "## Activity 1:\n",
    "\n",
    "Try outputting the graph for training a linear model and see how it works"
   ]
  },
  {
   "cell_type": "markdown",
   "metadata": {},
   "source": [
    "## Activity 2:\n",
    "\n",
    "Using the code below, build a linear regression model using tensorflow. The dataset we will be using is the boston housing dataset. This dataset has features for a home, and the label is a home's median value in $1000s. To read more about this dataset, visit https://www.kaggle.com/c/boston-housing. The code block below loads the dataset and performs all the preprocessing required. From here, use the training sets to train a linear model, then print the MSE of your model using the testing set. Keep in mind that the shape of this dataset is multidimensional, so you will need to account for that while building your tensors."
   ]
  },
  {
   "cell_type": "code",
   "execution_count": 15,
   "metadata": {
    "collapsed": false
   },
   "outputs": [],
   "source": [
    "import numpy as np\n",
    "import matplotlib\n",
    "import matplotlib.pyplot as plt\n",
    "from tensorflow.contrib import learn\n",
    "from sklearn import preprocessing\n",
    "from sklearn import metrics\n",
    "\n",
    "boston = learn.datasets.load_dataset('boston')\n",
    "x, y = boston.data, boston.target\n",
    "y.resize( y.size, 1 ) #make y = [[x], [x], [x], ... ]\n",
    "\n",
    "rnd_indices = np.random.rand(len(x)) < 0.80\n",
    "\n",
    "train_x = x[rnd_indices]\n",
    "train_y = y[rnd_indices]\n",
    "test_x = x[~rnd_indices]\n",
    "test_y = y[~rnd_indices]\n",
    "\n",
    "scaler = preprocessing.StandardScaler( )\n",
    "train_x = scaler.fit_transform( train_x )\n",
    "test_x = scaler.fit_transform( test_x )\n",
    "\n",
    "n_dim = train_x.shape[1]"
   ]
  },
  {
   "cell_type": "markdown",
   "metadata": {},
   "source": [
    "### Potential Solution:\n",
    "Here we are predefining our learning rate and # of training iterations. We will also keep an array to hold our model's cost while training so that we can visualize it later. Now since we are dealing with multidimensional data, we need to define our X placeholder and weights in terms of the number of features we have. From here, our linear model will perform a matrix multiplication of teh weights and inputs, and then add the bias."
   ]
  },
  {
   "cell_type": "code",
   "execution_count": 16,
   "metadata": {
    "collapsed": false
   },
   "outputs": [],
   "source": [
    "learning_rate = 0.01\n",
    "training_epochs = 1000\n",
    "cost_history = []\n",
    "\n",
    "X = tf.placeholder(tf.float32,[None,n_dim])\n",
    "Y = tf.placeholder(tf.float32,[None,1])\n",
    "W = tf.Variable(tf.ones([n_dim,1]))\n",
    "bias = tf.Variable([0.5])\n",
    "\n",
    "linear_model = tf.matmul(X, W) + bias\n",
    "\n",
    "init = tf.global_variables_initializer()"
   ]
  },
  {
   "cell_type": "markdown",
   "metadata": {},
   "source": [
    "This code builds a tensor to compute the cost of our model and builds a tensor to perform gradient descent."
   ]
  },
  {
   "cell_type": "code",
   "execution_count": 17,
   "metadata": {
    "collapsed": true
   },
   "outputs": [],
   "source": [
    "cost = tf.reduce_mean(tf.square(linear_model - Y))\n",
    "training_step = tf.train.GradientDescentOptimizer(learning_rate).minimize(cost)"
   ]
  },
  {
   "cell_type": "markdown",
   "metadata": {},
   "source": [
    "Finally, this code will actually train our weights and bias for us, and every 10 training iterations we will be appending our model's cost to our cost history array"
   ]
  },
  {
   "cell_type": "code",
   "execution_count": 18,
   "metadata": {
    "collapsed": false
   },
   "outputs": [],
   "source": [
    "sess = tf.Session()\n",
    "sess.run(init)\n",
    "\n",
    "for epoch in range(0, training_epochs):\n",
    "    sess.run(training_step,feed_dict={X:train_x,Y:train_y})\n",
    "    if epoch > 0 and epoch % 10 == 0:\n",
    "        cost_history.append(sess.run(cost,feed_dict={X: train_x,Y: train_y}))"
   ]
  },
  {
   "cell_type": "markdown",
   "metadata": {},
   "source": [
    "Now we will visualize our cost history array in order to see how quickly the model's error goes down"
   ]
  },
  {
   "cell_type": "code",
   "execution_count": 19,
   "metadata": {
    "collapsed": false,
    "scrolled": true
   },
   "outputs": [
    {
     "data": {
      "image/png": "[encoded data removed]",
      "text/plain": [
       "<matplotlib.figure.Figure at 0x7ff78d973080>"
      ]
     },
     "metadata": {},
     "output_type": "display_data"
    }
   ],
   "source": [
    "plt.plot(cost_history)\n",
    "plt.show()"
   ]
  },
  {
   "cell_type": "markdown",
   "metadata": {},
   "source": [
    "Finally, we will print our model's MSE on the testing set."
   ]
  },
  {
   "cell_type": "code",
   "execution_count": 20,
   "metadata": {
    "collapsed": false
   },
   "outputs": [
    {
     "name": "stdout",
     "output_type": "stream",
     "text": [
      "MSE: 19.907943\n"
     ]
    }
   ],
   "source": [
    "yhat = sess.run(linear_model, feed_dict={X: test_x})\n",
    "mse = tf.reduce_mean(tf.square(yhat - test_y))\n",
    "print(\"MSE: %f\" % sess.run(mse)) "
   ]
  }
 ],
 "metadata": {
  "kernelspec": {
   "display_name": "Python 3",
   "language": "python",
   "name": "python3"
  },
  "language_info": {
   "codemirror_mode": {
    "name": "ipython",
    "version": 3
   },
   "file_extension": ".py",
   "mimetype": "text/x-python",
   "name": "python",
   "nbconvert_exporter": "python",
   "pygments_lexer": "ipython3",
   "version": "3.5.2"
  }
 },
 "nbformat": 4,
 "nbformat_minor": 2
}
