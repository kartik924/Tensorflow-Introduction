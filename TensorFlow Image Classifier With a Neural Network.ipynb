{
 "cells": [
  {
   "cell_type": "markdown",
   "metadata": {},
   "source": [
    "# Neural Network Image Classifier\n",
    "\n",
    "In This tutorial we will build an Image Classifier for the MNIST Data Set using a Neural Network"
   ]
  },
  {
   "cell_type": "markdown",
   "metadata": {},
   "source": [
    "First, we will import the MNIST Handwritten digits data."
   ]
  },
  {
   "cell_type": "code",
   "execution_count": 1,
   "metadata": {
    "collapsed": false
   },
   "outputs": [
    {
     "name": "stdout",
     "output_type": "stream",
     "text": [
      "Extracting /tmp/data/train-images-idx3-ubyte.gz\n",
      "Extracting /tmp/data/train-labels-idx1-ubyte.gz\n",
      "Extracting /tmp/data/t10k-images-idx3-ubyte.gz\n",
      "Extracting /tmp/data/t10k-labels-idx1-ubyte.gz\n"
     ]
    }
   ],
   "source": [
    "import tensorflow as tf\n",
    "from tensorflow.examples.tutorials.mnist import input_data\n",
    "import matplotlib.pyplot as plt\n",
    "%matplotlib inline\n",
    "\n",
    "mnist = input_data.read_data_sets(\"/tmp/data/\", one_hot=True)"
   ]
  },
  {
   "cell_type": "markdown",
   "metadata": {},
   "source": [
    "## Understanding our Dataset\n",
    "\n",
    "Recall that the MNIST Handwritten Digits Dataset is a collection of images of handwritten digits. These images are all 28 by 28 pixels and are in grayscale instead of RGB. The dataset from the tensorflow library has 3 sets of images. Each of them have associated labels, and each set has a different number of images."
   ]
  },
  {
   "cell_type": "code",
   "execution_count": 2,
   "metadata": {
    "collapsed": false
   },
   "outputs": [
    {
     "name": "stdout",
     "output_type": "stream",
     "text": [
      "# of images in image set 1:  55000\n",
      "# of images in image set 2:  5000\n",
      "# of images in image set 3:  10000\n"
     ]
    }
   ],
   "source": [
    "for i in range(0, len(mnist)):\n",
    "    print('# of images in image set %d: ' % (i + 1), len(mnist[i].images))"
   ]
  },
  {
   "cell_type": "markdown",
   "metadata": {},
   "source": [
    "Below we are using matplotlib to display the first dataset's first image. We are also printing out the label associated with this image. Clearly the image looks like the number 7, And thus the label is an array of 0s where the 7th index is a 1."
   ]
  },
  {
   "cell_type": "code",
   "execution_count": 3,
   "metadata": {
    "collapsed": false
   },
   "outputs": [
    {
     "name": "stdout",
     "output_type": "stream",
     "text": [
      "Label of this image:  [ 0.  0.  0.  0.  0.  0.  0.  1.  0.  0.]\n"
     ]
    },
    {
     "data": {
      "image/png": "[encoded data removed]",
      "text/plain": [
       "<matplotlib.figure.Figure at 0x7fd92490b588>"
      ]
     },
     "metadata": {},
     "output_type": "display_data"
    }
   ],
   "source": [
    "plt.imshow(mnist[0].images[0].reshape((28, 28)), cmap=\"Greys\")\n",
    "print('Label of this image: ', mnist[0].labels[0])"
   ]
  },
  {
   "cell_type": "markdown",
   "metadata": {},
   "source": [
    "## Building the Neural Network\n",
    "Now that we understand our dataset, lets start building a neural network to classify it. First, we need to define the image size, and number of classes. Then, we need to define our input and output tensors according to the image size and number of classes. Since we will be performing matrix multiplication with our tensors, we must make them of rank 2."
   ]
  },
  {
   "cell_type": "code",
   "execution_count": 4,
   "metadata": {
    "collapsed": false
   },
   "outputs": [
    {
     "name": "stdout",
     "output_type": "stream",
     "text": [
      "Tensor(\"Placeholder:0\", shape=(?, 784), dtype=float32) Tensor(\"Placeholder_1:0\", shape=(?, 10), dtype=float32)\n"
     ]
    }
   ],
   "source": [
    "image_size = 28 * 28\n",
    "classes = 10 \n",
    "\n",
    "x = tf.placeholder('float32', [None, image_size])\n",
    "y = tf.placeholder('float32', [None, classes])\n",
    "\n",
    "print(x, y)"
   ]
  },
  {
   "cell_type": "markdown",
   "metadata": {},
   "source": [
    "Recall that a neural network has weights from each node in one layer to each node in the next layer, and a bias from one layer to each node in the next layer. We will construct a neural network with only one hidden layer with 256 nodes."
   ]
  },
  {
   "cell_type": "code",
   "execution_count": 5,
   "metadata": {
    "collapsed": false
   },
   "outputs": [],
   "source": [
    "weights = {'input_to_h1': tf.Variable(tf.random_normal([image_size, 256])), \n",
    "           'h1_to_output': tf.Variable(tf.random_normal([256, classes]))}\n",
    "\n",
    "biases = { 'input_to_h1': tf.Variable(tf.random_normal([256])), \n",
    "           'h1_to_output': tf.Variable(tf.random_normal([classes]))}"
   ]
  },
  {
   "cell_type": "markdown",
   "metadata": {},
   "source": [
    "Now that we have randomly initialized weights and biases, we can construct a tensor to represent the entire neural network. Recall that a neural network performs matrix multiplication on the incoming nodes with their weights, so we will use tf.matmul to perform that operation. Note that this is synonymous to the 'linear_model = weights * x + bias' tensor we had in the introduction."
   ]
  },
  {
   "cell_type": "code",
   "execution_count": 6,
   "metadata": {
    "collapsed": false
   },
   "outputs": [],
   "source": [
    "hidden_layer = tf.add(tf.matmul(x, weights['input_to_h1']), biases['input_to_h1'])\n",
    "output_layer = tf.add(tf.matmul(hidden_layer, weights['h1_to_output']), biases['h1_to_output'])\n"
   ]
  },
  {
   "cell_type": "markdown",
   "metadata": {},
   "source": [
    "## Training a Neural Network\n",
    "Now that we have our basic model built, we should define an error tensor and a gradient_descent tensor, so that we can build a training tensor."
   ]
  },
  {
   "cell_type": "code",
   "execution_count": 7,
   "metadata": {
    "collapsed": false
   },
   "outputs": [],
   "source": [
    "error = tf.reduce_mean(tf.nn.softmax_cross_entropy_with_logits(logits = output_layer, labels = y))\n",
    "gradient_descent = tf.train.GradientDescentOptimizer(0.01)\n",
    "train = gradient_descent.minimize(error)"
   ]
  },
  {
   "cell_type": "markdown",
   "metadata": {},
   "source": [
    "It will be helpful to measure the accuracy of the model while training it so that we can interpret the performance of the neural network, so we can construct an accuracy tensor by checking whether or not our model determined the correct class."
   ]
  },
  {
   "cell_type": "code",
   "execution_count": 8,
   "metadata": {
    "collapsed": true
   },
   "outputs": [],
   "source": [
    "prediction_correct = tf.equal(tf.argmax(output_layer, 1), tf.argmax(y, 1))\n",
    "model_accuracy = tf.reduce_mean(tf.cast(prediction_correct, tf.float32))"
   ]
  },
  {
   "cell_type": "markdown",
   "metadata": {},
   "source": [
    "Now that we have all the pieces of the puzzle together (our model, an optimizer, and a performance measure), we can run our session by running our model's optimizer multiple times over different 'batches' of input data, and printing out the accuracy of our model over our iterations. Note that we are using a variant of gradient descent called mini-batch gradient descent. This is similar to stochastic gradient descent with the exception that instead of updating our model on every data point, we update our model on a small group of our data points. Mini-batch strikes a good balance between performance and speed."
   ]
  },
  {
   "cell_type": "code",
   "execution_count": 9,
   "metadata": {
    "collapsed": false
   },
   "outputs": [
    {
     "name": "stdout",
     "output_type": "stream",
     "text": [
      "iteration:  0 Network Accuracy:  0.04\n",
      "iteration:  100 Network Accuracy:  0.72\n",
      "iteration:  200 Network Accuracy:  0.81\n",
      "iteration:  300 Network Accuracy:  0.81\n",
      "iteration:  400 Network Accuracy:  0.81\n",
      "iteration:  500 Network Accuracy:  0.77\n",
      "iteration:  600 Network Accuracy:  0.91\n",
      "iteration:  700 Network Accuracy:  0.76\n",
      "iteration:  800 Network Accuracy:  0.88\n",
      "iteration:  900 Network Accuracy:  0.83\n",
      "Gradient Descent complete\n",
      "testing acc:  0.8524\n"
     ]
    }
   ],
   "source": [
    "init = tf.global_variables_initializer()\n",
    "with tf.Session() as sess:\n",
    "    sess.run(init)\n",
    "    \n",
    "    for i in range(0, 1000):\n",
    "        batch_x, batch_y = mnist.train.next_batch(100)\n",
    "        \n",
    "        sess.run(train, {x: batch_x, y: batch_y})\n",
    "        if i % 100 == 0 or i == 0:\n",
    "            loss, acc = sess.run([error, model_accuracy], {x: batch_x, y: batch_y})\n",
    "            \n",
    "            print('iteration: ', i, 'Network Accuracy: ', sess.run(model_accuracy, {x: batch_x, y: batch_y}))\n",
    "            \n",
    "    print('Gradient Descent complete')\n",
    "    \n",
    "    print('testing acc: ', sess.run(model_accuracy, feed_dict={x: mnist.test.images, y: mnist.test.labels}))"
   ]
  },
  {
   "cell_type": "markdown",
   "metadata": {},
   "source": [
    "Congratulations, you have built your first Neural Network with TensorFlow!\n",
    "\n",
    "## Activity 1:\n",
    "\n",
    "Export a graph of this session to TensorBoard to visualize and understand the network."
   ]
  },
  {
   "cell_type": "markdown",
   "metadata": {},
   "source": [
    "## Activity 2:\n",
    "Tune the parameters (learning rate, # of iterations, # of images read, # of hidden layers, # of nodes in hidden layers, activation functions, etc), in order to maximize the accuracy of your network. Try to beat a base test accuracy of 93%"
   ]
  },
  {
   "cell_type": "markdown",
   "metadata": {},
   "source": [
    "### Potential Solution:\n",
    "\n",
    "- Adding one more hidden layer with same # of hidden nodes (256)\n",
    "- Applying relu to both hidden layers\n",
    "- Reducing the learning rate\n",
    "- Increasing the # batches to 30000"
   ]
  },
  {
   "cell_type": "code",
   "execution_count": 10,
   "metadata": {
    "collapsed": false
   },
   "outputs": [
    {
     "name": "stdout",
     "output_type": "stream",
     "text": [
      "iteration:  0 Network Accuracy:  0.22\n",
      "iteration:  1000 Network Accuracy:  0.94\n",
      "iteration:  2000 Network Accuracy:  0.92\n",
      "iteration:  3000 Network Accuracy:  0.98\n",
      "iteration:  4000 Network Accuracy:  0.92\n",
      "iteration:  5000 Network Accuracy:  0.99\n",
      "iteration:  6000 Network Accuracy:  0.93\n",
      "iteration:  7000 Network Accuracy:  0.99\n",
      "iteration:  8000 Network Accuracy:  0.99\n",
      "iteration:  9000 Network Accuracy:  1.0\n",
      "iteration:  10000 Network Accuracy:  0.99\n",
      "iteration:  11000 Network Accuracy:  0.99\n",
      "iteration:  12000 Network Accuracy:  0.99\n",
      "iteration:  13000 Network Accuracy:  0.99\n",
      "iteration:  14000 Network Accuracy:  0.99\n",
      "iteration:  15000 Network Accuracy:  0.98\n",
      "iteration:  16000 Network Accuracy:  1.0\n",
      "iteration:  17000 Network Accuracy:  1.0\n",
      "iteration:  18000 Network Accuracy:  1.0\n",
      "iteration:  19000 Network Accuracy:  1.0\n",
      "iteration:  20000 Network Accuracy:  1.0\n",
      "iteration:  21000 Network Accuracy:  0.98\n",
      "iteration:  22000 Network Accuracy:  1.0\n",
      "iteration:  23000 Network Accuracy:  1.0\n",
      "iteration:  24000 Network Accuracy:  1.0\n",
      "iteration:  25000 Network Accuracy:  1.0\n",
      "iteration:  26000 Network Accuracy:  1.0\n",
      "iteration:  27000 Network Accuracy:  1.0\n",
      "iteration:  28000 Network Accuracy:  1.0\n",
      "iteration:  29000 Network Accuracy:  1.0\n",
      "Gradient Descent complete\n",
      "testing acc:  0.9401\n"
     ]
    }
   ],
   "source": [
    "image_size = 28 * 28\n",
    "classes = 10 \n",
    "hidden_layer_size = 256\n",
    "\n",
    "x = tf.placeholder('float32', [None, image_size])\n",
    "y = tf.placeholder('float32', [None, classes])\n",
    "\n",
    "weights = {'input_to_h1': tf.Variable(tf.random_normal([image_size, hidden_layer_size])), \n",
    "           'h1_to_h2': tf.Variable(tf.random_normal([hidden_layer_size, hidden_layer_size])),\n",
    "           'h2_to_output': tf.Variable(tf.random_normal([hidden_layer_size, classes]))}\n",
    "\n",
    "biases = { 'input_to_h1': tf.Variable(tf.random_normal([hidden_layer_size])), \n",
    "           'h1_to_h2': tf.Variable(tf.random_normal([hidden_layer_size])),\n",
    "           'h2_to_output': tf.Variable(tf.random_normal([classes]))}\n",
    "\n",
    "hidden_layer1 = tf.add(tf.matmul(x, weights['input_to_h1']), biases['input_to_h1'])\n",
    "hidden_layer1 = tf.nn.relu(hidden_layer1)\n",
    "hidden_layer2 = tf.add(tf.matmul(hidden_layer1, weights['h1_to_h2']), biases['h1_to_h2'])\n",
    "hidden_layer2 = tf.nn.relu(hidden_layer2)\n",
    "output_layer = tf.add(tf.matmul(hidden_layer2, weights['h2_to_output']), biases['h2_to_output'])\n",
    "\n",
    "error = tf.reduce_mean(tf.nn.softmax_cross_entropy_with_logits(logits = output_layer, labels = y))\n",
    "gradient_descent = tf.train.GradientDescentOptimizer(0.005)\n",
    "train = gradient_descent.minimize(error)\n",
    "\n",
    "prediction_correct = tf.equal(tf.argmax(output_layer, 1), tf.argmax(y, 1))\n",
    "model_accuracy = tf.reduce_mean(tf.cast(prediction_correct, tf.float32))\n",
    "\n",
    "init = tf.global_variables_initializer()\n",
    "with tf.Session() as sess:\n",
    "    sess.run(init)\n",
    "    \n",
    "    for i in range(0, 30000):\n",
    "        batch_x, batch_y = mnist.train.next_batch(100)\n",
    "        \n",
    "        sess.run(train, {x: batch_x, y: batch_y})\n",
    "        if i % 1000 == 0 or i == 0:\n",
    "            loss, acc = sess.run([error, model_accuracy], {x: batch_x, y: batch_y})\n",
    "            \n",
    "            print('iteration: ', i, 'Network Accuracy: ', sess.run(model_accuracy, {x: batch_x, y: batch_y}))\n",
    "            \n",
    "    print('Gradient Descent complete')\n",
    "    \n",
    "    print('testing acc: ', sess.run(model_accuracy, feed_dict={x: mnist.test.images, y: mnist.test.labels}))"
   ]
  }
 ],
 "metadata": {
  "kernelspec": {
   "display_name": "Python 3",
   "language": "python",
   "name": "python3"
  },
  "language_info": {
   "codemirror_mode": {
    "name": "ipython",
    "version": 3
   },
   "file_extension": ".py",
   "mimetype": "text/x-python",
   "name": "python",
   "nbconvert_exporter": "python",
   "pygments_lexer": "ipython3",
   "version": "3.5.2"
  }
 },
 "nbformat": 4,
 "nbformat_minor": 2
}
